{
    "cells": [
        {
            "cell_type": "markdown",
            "metadata": {
                "collapsed": true
            },
            "source": "# Applied Data Science Capstone Project - Car accident severity"
        },
        {
            "cell_type": "markdown",
            "metadata": {},
            "source": "### Introduction (Business Problem)\nThe purpose of this project is to build a machine learning model to predict the severity of a car accident in terms of human fatality, traffic delay, property damage, or any other type of accident bad impact. \n\nThis prediction system may be helpful for people who are driving or travelling on the same roads that are closed due to the accident. Having an early idea of the accident severity may help them decide whether they should stay on the same way or take a detour. It may also help them cancel or reschedule any appointment they are running late for. An early idea of the severity can also help the police and the paramedics to plan on number of resources (both humans and equipments) need to be involved to deal with the accident. \n\nI am going to use a supervised machine learning model for this project. Hence, like any supervised machine learning model, a dataset with labeled data will be used to train and validate the model.\n\nThe dataset that I will use for this project is the shared dataset that is provided in the course syllabus named **'Data-Collisions.csv'**."
        },
        {
            "cell_type": "markdown",
            "metadata": {},
            "source": "### Data\n\nThe dataset, **'Data-Collisions.csv'**, is a __CSV__ file provided in the course syllabus and it contains the **Seattle** city traffic accident information from 01-Jan-2004 to 20-May-2020.\n\nThe initial dataset has a total of 38 columns (37 features and one label or target column) and a total of 194673 rows or samples.   \n\nThe target column or the label of the dataset is the **\"SEVERITY\"** column which describes the fatality of the accident.  \n\nSome features have missing data and there are numerical and categorical types of data in the dataset. Not all attributes/features are useful, so some of them may need to be dropped. Some level of feature engineering will be required to reform or reshape the data in order to improve the predictability of the model. \n\nIn order to deceide on which features should be used to build the predictive model I would consider the features that describe human factors, physical factors and environmental factors. After an initial observation it seems to me that the following attributes are good candidates for my project.\n- Location\n- Car speeding \n- Person under the influence of alcohol\n- Junction type\n- Weather condition\n- Light conditions\n- Road conditions\n- Number of people involved\n- Number of vehicles involved\n\nBelow are the column names in the initial dataset that represent the above listed attributes:\n\n**'LOCATION', 'SPEEDING', 'UNDERINFL', 'JUNCTIONTYPE', 'WEATHER', 'LIGHTCOND', 'ROADCOND', 'PERSONCOUNT', 'VEHCOUNT'**\n\nThis is only an initial assumption and I may need to add, remove, split or transform features as I analyse the data in more details along the way.  "
        },
        {
            "cell_type": "code",
            "execution_count": null,
            "metadata": {},
            "outputs": [],
            "source": ""
        }
    ],
    "metadata": {
        "kernelspec": {
            "display_name": "Python 3.6",
            "language": "python",
            "name": "python3"
        },
        "language_info": {
            "codemirror_mode": {
                "name": "ipython",
                "version": 3
            },
            "file_extension": ".py",
            "mimetype": "text/x-python",
            "name": "python",
            "nbconvert_exporter": "python",
            "pygments_lexer": "ipython3",
            "version": "3.6.9"
        }
    },
    "nbformat": 4,
    "nbformat_minor": 1
}