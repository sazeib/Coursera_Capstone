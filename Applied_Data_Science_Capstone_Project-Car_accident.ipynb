{
    "cells": [
        {
            "cell_type": "markdown",
            "metadata": {
                "collapsed": true
            },
            "source": "# Applied Data Science Capstone Project - Car accident severity"
        },
        {
            "cell_type": "markdown",
            "metadata": {},
            "source": "### Introduction (Business Problem)\nThe purpose of this project is to build a machine learning model to predict the accident severity in terms of human fatality, traffic delay, property damage, or any other type of accident bad impact. \n\nA supervised machine learning model will be used for this project. Hence, a dataset with labeled data will be used to train and validate the model.\n\nThe dataset that I will use for this project is the shared dataset that is provided in the course syllabus named **'Data-Collisions.csv'**."
        },
        {
            "cell_type": "markdown",
            "metadata": {},
            "source": "### Data\n\nThe dataset, **'Data-Collisions.csv'**, is a __CSV__ file that contains the Seattle city traffic accident information.\n\nThere are 38 total columns (37 features and one label or taget column) and 194673 total rows(observations) in the initial dataset.   \n\nThe target column or the label of the dataset is the **\"SEVERITY\"** column which describes the fatality of the accident.  \n\nSome features have missing data and there are numerical and categorical types of data in the dataset. Not all attributes/features are useful, so some of them may need to be dropped. Some level of feature engineering will be required to reform the data in order to improve the predictability of the model. "
        },
        {
            "cell_type": "code",
            "execution_count": null,
            "metadata": {},
            "outputs": [],
            "source": ""
        }
    ],
    "metadata": {
        "kernelspec": {
            "display_name": "Python 3.6",
            "language": "python",
            "name": "python3"
        },
        "language_info": {
            "codemirror_mode": {
                "name": "ipython",
                "version": 3
            },
            "file_extension": ".py",
            "mimetype": "text/x-python",
            "name": "python",
            "nbconvert_exporter": "python",
            "pygments_lexer": "ipython3",
            "version": "3.6.9"
        }
    },
    "nbformat": 4,
    "nbformat_minor": 1
}